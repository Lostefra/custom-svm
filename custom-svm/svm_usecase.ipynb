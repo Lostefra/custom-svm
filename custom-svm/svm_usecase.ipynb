{
 "cells": [
  {
   "cell_type": "markdown",
   "source": [
    "# custom-svm\n",
    "Project for the **Combinatorial Decision Making and Optimization** course - Master in AI, *Alma Mater Studiorum*\n",
    "#### Credits:\n",
    " - Mattia Orlandi\n",
    " - Lorenzo Mario Amorosa"
   ],
   "metadata": {
    "collapsed": false,
    "pycharm": {
     "name": "#%% md\n",
     "is_executing": false
    }
   }
  },
  {
   "cell_type": "markdown",
   "source": [
    "Import the required libraries, in particular the custom implementation of SVM contained in the `svm.py` \n",
    "module and the dataset generator (`sample_data_generator.py`).  \n",
    "Set some useful constants, like the random state `RND`, the number of samples `N_SAMP` \n",
    "and the number of features `N_FEAT`."
   ],
   "metadata": {
    "collapsed": false
   }
  },
  {
   "cell_type": "code",
   "execution_count": 13,
   "outputs": [],
   "source": [
    "from svm import SVM\n",
    "from data.sample_data_generator import *\n",
    "from sklearn.metrics import accuracy_score\n",
    "%matplotlib inline\n",
    "\n",
    "RND = 42\n",
    "N_SAMP = 200\n",
    "N_FEAT = 2"
   ],
   "metadata": {
    "collapsed": false,
    "pycharm": {
     "name": "#%%\n",
     "is_executing": false
    }
   }
  },
  {
   "cell_type": "markdown",
   "source": [
    "Define a useful function which, given a `SVM` object, the training and the test sets, \n",
    "performs the following operations:\n",
    "- `SVM.fit(...)` on the training set;\n",
    "- `SVM.predict(...)` on the test set;\n",
    "- computes the accuracy score;\n",
    "- plots the result."
   ],
   "metadata": {
    "collapsed": false
   }
  },
  {
   "cell_type": "code",
   "execution_count": 14,
   "outputs": [],
   "source": [
    "def fit_and_predict(svm: SVM,\n",
    "                    X_train: np.ndarray,\n",
    "                    X_test: np.ndarray,\n",
    "                    y_train: np.ndarray,\n",
    "                    y_test: np.ndarray):\n",
    "    svm.fit(X_train, y_train)\n",
    "    y_pred = svm.predict(X_test)\n",
    "    print('Accuracy: {0:.2f}%'.format(accuracy_score(y_test, y_pred) * 100))\n",
    "    svm.plot2D(np.concatenate((X_train, X_test)), np.concatenate((y_train, y_test)))"
   ],
   "metadata": {
    "collapsed": false,
    "pycharm": {
     "name": "#%%\n",
     "is_executing": false
    }
   }
  },
  {
   "cell_type": "markdown",
   "source": [
    "Test the SVM on a linearly separable dataset."
   ],
   "metadata": {
    "collapsed": false
   }
  },
  {
   "cell_type": "code",
   "execution_count": 15,
   "outputs": [
    {
     "name": "stdout",
     "text": [
      "     pcost       dcost       gap    pres   dres\n",
      " 0: -5.6865e+01 -1.2435e+02  5e+02  2e+01  2e+00\n",
      " 1: -1.6099e+02 -2.0835e+02  3e+02  1e+01  1e+00\n",
      " 2: -4.4155e+02 -4.9431e+02  3e+02  1e+01  1e+00\n",
      " 3: -6.8944e+02 -7.4580e+02  3e+02  1e+01  1e+00\n",
      " 4: -1.6818e+03 -1.7520e+03  3e+02  1e+01  1e+00\n",
      " 5: -1.3618e+04 -1.3819e+04  7e+02  1e+01  1e+00\n",
      " 6: -1.3698e+04 -1.5921e+04  4e+03  1e+01  1e+00\n",
      " 7: -3.5723e+04 -4.2464e+04  1e+04  1e+01  9e-01\n",
      " 8: -5.2726e+04 -6.5459e+04  2e+04  6e+00  5e-01\n",
      " 9: -5.6984e+04 -5.9974e+04  4e+03  7e-01  6e-02\n",
      "10: -5.6992e+04 -5.7027e+04  4e+01  8e-03  6e-04\n",
      "11: -5.6991e+04 -5.6992e+04  4e-01  8e-05  6e-06\n",
      "12: -5.6991e+04 -5.6991e+04  4e-03  8e-07  6e-08\n",
      "13: -5.6991e+04 -5.6991e+04  4e-05  8e-09  6e-10\n",
      "Optimal solution found.\n",
      "3 support vectors found out of 150 data points:\n",
      "1) X: [0.63352971 0.53577468]\ty: 1.0\n",
      "2) X: [0.28203457 0.17743954]\ty: -1.0\n",
      "3) X: [0.88708642 0.77987555]\ty: -1.0\n",
      "Bias of the hyper-plane: 23.732099\n",
      "Weights of the hyper-plane:\n",
      "[-238.21047491  239.24481366]\n",
      "Accuracy: 100.00%\n"
     ],
     "output_type": "stream"
    },
    {
     "data": {
      "text/plain": "<Figure size 432x288 with 1 Axes>",
      "image/png": "[encoded data removed]"
     },
     "metadata": {
      "needs_background": "light"
     },
     "output_type": "display_data"
    }
   ],
   "source": [
    "X_train, X_test, y_train, y_test = linear_data_generator(n_samples=N_SAMP,\n",
    "                                                         n_features=N_FEAT,\n",
    "                                                         random_state=RND)\n",
    "svm = SVM()\n",
    "fit_and_predict(svm, X_train, X_test, y_train, y_test)"
   ],
   "metadata": {
    "collapsed": false,
    "pycharm": {
     "name": "#%%\n",
     "is_executing": false
    }
   }
  },
  {
   "cell_type": "markdown",
   "source": [
    "Test the SVM on a non-linear separable dataset."
   ],
   "metadata": {
    "collapsed": false
   }
  },
  {
   "cell_type": "code",
   "execution_count": 16,
   "outputs": [
    {
     "name": "stdout",
     "text": [
      "     pcost       dcost       gap    pres   dres\n",
      " 0: -1.4469e+01 -3.8930e+01  4e+02  2e+01  2e+00\n",
      " 1: -1.3703e+01 -4.1213e+01  1e+02  4e+00  5e-01\n",
      " 2: -2.0594e+01 -3.7226e+01  4e+01  2e+00  2e-01\n",
      " 3: -2.5695e+01 -3.3285e+01  1e+01  1e-01  1e-02\n",
      " 4: -2.9647e+01 -3.1591e+01  2e+00  2e-02  2e-03\n",
      " 5: -3.0789e+01 -3.1398e+01  6e-01  1e-14  2e-15\n",
      " 6: -3.1292e+01 -3.1302e+01  9e-03  7e-15  2e-15\n",
      " 7: -3.1300e+01 -3.1301e+01  9e-05  9e-15  3e-15\n",
      " 8: -3.1301e+01 -3.1301e+01  9e-07  3e-15  3e-15\n",
      "Optimal solution found.\n",
      "13 support vectors found out of 150 data points:\n",
      "1) X: [-0.41837984 -0.37600114]\ty: 1\n",
      "2) X: [-0.59662249  0.0820507 ]\ty: 1\n",
      "3) X: [-0.23228731  0.83607726]\ty: -1\n",
      "4) X: [0.45176366 0.43918444]\ty: 1\n",
      "5) X: [-0.18800123 -0.94197532]\ty: -1\n",
      "6) X: [-0.6776143  -0.29964045]\ty: -1\n",
      "7) X: [-0.63223513  0.64210376]\ty: -1\n",
      "8) X: [0.70456055 0.51188204]\ty: -1\n",
      "9) X: [-0.8752793  0.3160447]\ty: -1\n",
      "10) X: [0.55456561 0.71599632]\ty: -1\n",
      "11) X: [0.83579998 0.15894016]\ty: -1\n",
      "12) X: [ 0.64049665 -0.57076481]\ty: -1\n",
      "13) X: [ 0.51430956 -0.41598642]\ty: 1\n",
      "Bias of the hyper-plane: -1.720588\n",
      "Accuracy: 52.00%\n"
     ],
     "output_type": "stream"
    },
    {
     "data": {
      "text/plain": "<Figure size 432x288 with 1 Axes>",
      "image/png": "[encoded data removed]"
     },
     "metadata": {
      "needs_background": "light"
     },
     "output_type": "display_data"
    }
   ],
   "source": [
    "X_train, X_test, y_train, y_test = non_linear_data_generator(n_samples=N_SAMP,\n",
    "                                                             random_state=RND)\n",
    "svm = SVM(kernel='rbf')\n",
    "fit_and_predict(svm, X_train, X_test, y_train, y_test)"
   ],
   "metadata": {
    "collapsed": false,
    "pycharm": {
     "name": "#%%\n",
     "is_executing": false
    }
   }
  }
 ],
 "metadata": {
  "kernelspec": {
   "display_name": "Python 3",
   "language": "python",
   "name": "python3"
  },
  "language_info": {
   "codemirror_mode": {
    "name": "ipython",
    "version": 2
   },
   "file_extension": ".py",
   "mimetype": "text/x-python",
   "name": "python",
   "nbconvert_exporter": "python",
   "pygments_lexer": "ipython2",
   "version": "2.7.6"
  },
  "pycharm": {
   "stem_cell": {
    "cell_type": "raw",
    "source": [],
    "metadata": {
     "collapsed": false
    }
   }
  }
 },
 "nbformat": 4,
 "nbformat_minor": 0
}